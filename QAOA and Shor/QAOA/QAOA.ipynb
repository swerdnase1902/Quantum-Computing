{
 "cells": [
  {
   "cell_type": "markdown",
   "source": [
    "# QAOA Solver in Cirq\n",
    "\n",
    "We will use `cirq` to implement the QAOA solver here.\n"
   ],
   "metadata": {
    "collapsed": false,
    "pycharm": {
     "name": "#%% md\n"
    }
   }
  },
  {
   "cell_type": "markdown",
   "source": [
    "First, import the necessary libraries"
   ],
   "metadata": {
    "collapsed": false,
    "pycharm": {
     "name": "#%% md\n"
    }
   }
  },
  {
   "cell_type": "code",
   "execution_count": 1,
   "outputs": [],
   "source": [
    "import cirq\n",
    "import numpy as np\n",
    "from matplotlib import pyplot as plt\n",
    "import time\n",
    "import random\n",
    "import statistics\n",
    "import sys\n",
    "import math"
   ],
   "metadata": {
    "collapsed": false,
    "pycharm": {
     "name": "#%%\n"
    }
   }
  },
  {
   "cell_type": "markdown",
   "source": [
    "The variable names `n`, `m`, `t`, `C`, `B`, `C`, `B`, `Sep`, and `Mix` follow the notation in lecture notes.\n",
    "\n",
    "![Definition of MaxSAT](./images/Qes](./images/HelperMatrices.png)\n",
    "![QAQA Algorithm](./images/qaoa_alg.png)\n",
    "## Max2SAT Class\n",
    "In order to use QAQA, we need to first define the structure of `Max2SAT`"
   ],
   "metadata": {
    "collapsed": false,
    "pycharm": {
     "name": "#%% md\n"
    }
   }
  },
  {
   "cell_type": "code",
   "execution_count": 2,
   "outputs": [],
   "source": [
    "class Max2SAT:\n",
    "    def __init__(self, n, m, t, max2sat: str):\n",
    "        self.n = n\n",
    "        self.m = m\n",
    "        self.t = t\n",
    "\n",
    "        # TODO: discuss how max2sat should look like\n",
    "        # TODO: initialize and encode a Max2SAT problem into this class\n",
    "        # self.CNF = ???\n",
    "        pass\n",
    "    def Count(self, z)->int:\n",
    "        # TODO: implement Count\n",
    "        return 0\n",
    "    def Countj(self, j, z)->int:\n",
    "        # TODO: implement Countj\n",
    "        return 0"
   ],
   "metadata": {
    "collapsed": false,
    "pycharm": {
     "name": "#%%\n"
    }
   }
  },
  {
   "cell_type": "markdown",
   "source": [
    "## QAOA Class\n",
    "We define a Python class called `QAOASolver` that approximately solves an instance of the MaxSAT problem."
   ],
   "metadata": {
    "collapsed": false,
    "pycharm": {
     "name": "#%% md\n"
    }
   }
  },
  {
   "cell_type": "code",
   "execution_count": 6,
   "outputs": [],
   "source": [
    "class QAOASolver:\n",
    "    def _compute_C_(self):\n",
    "        # TODO: implement C\n",
    "        \"\"\"\n",
    "        The plan is to enumerate all possible bit strings z and generate the C matrix\n",
    "        \"\"\"\n",
    "        num_qubits = self.n\n",
    "        C_column_vecs = list()\n",
    "        num_dim = 2**num_qubits\n",
    "        for z in range(num_dim):\n",
    "            # Calculate Count(z) * |z>\n",
    "            Count = self.max2sat.Count(z)\n",
    "            z_vec = np.zeros(shape=(num_dim, 1))\n",
    "            z_vec[z, 0] = 1\n",
    "            C_column_vecs.append(Count*z_vec)\n",
    "        C = np.concatenate(C_column_vecs, axis=1)\n",
    "        return C\n",
    "\n",
    "    def _compute_B(self):\n",
    "        # TODO: implement B\n",
    "        num_dim = 2**self.n\n",
    "        B = np.zeros(shape=(num_dim, num_dim))\n",
    "        NOT = np.array([[0,1], [1, 0]])\n",
    "        for k in range(self.n):\n",
    "            B = B + np.kron(np.eye(2**k), np.kron(NOT, np.eye(2**(self.n-k-1))))\n",
    "        return B\n",
    "\n",
    "    def __init__(self, max2sat_instance: Max2SAT, num_tries):\n",
    "        # num_tries is the number of different choices of (gamma, beta)\n",
    "        self.max2sat = max2sat_instance\n",
    "        self.num_tries = num_tries\n",
    "        self.n = max2sat_instance.n\n",
    "        self.m = max2sat_instance.m\n",
    "        self.t = max2sat_instance.t\n",
    "\n",
    "        # TODO: Get C as np.array\n",
    "        self.C = self._compute_C_()\n",
    "\n",
    "        # TODO: Get B as np.array\n",
    "        self.B = self._compute_B()\n",
    "\n",
    "    def _Mix(self, beta):\n",
    "        # TODO: implement Mix\n",
    "        return np.eye(shape=(2**self.n, 2**self.n))\n",
    "\n",
    "    def _Sep(self, gamma):\n",
    "        # TODO: implement Mix\n",
    "        return np.eye(shape=(2**self.n, 2**self.n))\n",
    "\n",
    "\n",
    "    def _make_qaoa_circuit(self, beta, gamma):\n",
    "        # TODO: implement the circuit\n",
    "        qubits = cirq.LineQubit.range(self.n)\n",
    "        ops = [cirq.H(q) for q in qubits] + [cirq.measure(*qubits, key='result')]\n",
    "        qaoa_circuit = cirq.Circuit(ops)\n",
    "        return qaoa_circuit\n",
    "\n",
    "    def solve(self):\n",
    "        history = list()\n",
    "        for trial in range(self.num_tries):\n",
    "            gamma = random.uniform(0, 2*math.pi)\n",
    "            beta = random.uniform(0, math.pi)\n",
    "            circuit = self._make_qaoa_circuit(beta, gamma)\n",
    "            simulator = cirq.Simulator()\n",
    "            result = simulator.run(circuit)\n",
    "            z = result.measurements['result']\n",
    "            history.append((z, self.max2sat.Count(z)))\n",
    "        # Pick the measurement z that maximizes Count(z)\n",
    "        max_z, _ = max(history, key=lambda x: x[1])\n",
    "        return max_z"
   ],
   "metadata": {
    "collapsed": false,
    "pycharm": {
     "name": "#%%\n"
    }
   }
  },
  {
   "cell_type": "markdown",
   "source": [
    "## Example driver for the above code"
   ],
   "metadata": {
    "collapsed": false,
    "pycharm": {
     "name": "#%% md\n"
    }
   }
  },
  {
   "cell_type": "code",
   "execution_count": 9,
   "outputs": [
    {
     "name": "stdout",
     "output_type": "stream",
     "text": [
      "2\n"
     ]
    }
   ],
   "source": [
    "if __name__ == '__main__':\n",
    "    my_max2sat = Max2SAT(4, 2, 2, \"Hello 2SAT\")\n",
    "    solver = QAOASolver(my_max2sat, num_tries=10)\n",
    "    result = solver.solve()\n",
    "    # After we turn result into a decimal int, it will represent the maximum number of satisfiable clauses in 2SAT\n",
    "    result = result.flatten().tolist()\n",
    "    result.reverse()\n",
    "    result_int = 0\n",
    "    while result:\n",
    "        result_int<<=1\n",
    "        result_int |= result.pop()\n",
    "    print(result_int)"
   ],
   "metadata": {
    "collapsed": false,
    "pycharm": {
     "name": "#%%\n"
    }
   }
  }
 ],
 "metadata": {
  "kernelspec": {
   "name": "pycharm-ce408866",
   "language": "python",
   "display_name": "PyCharm (Quantum-Computing)"
  },
  "language_info": {
   "codemirror_mode": {
    "name": "ipython",
    "version": 2
   },
   "file_extension": ".py",
   "mimetype": "text/x-python",
   "name": "python",
   "nbconvert_exporter": "python",
   "pygments_lexer": "ipython2",
   "version": "2.7.6"
  }
 },
 "nbformat": 4,
 "nbformat_minor": 0
}